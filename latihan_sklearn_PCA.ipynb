{
  "nbformat": 4,
  "nbformat_minor": 0,
  "metadata": {
    "colab": {
      "name": "latihan sklearn PCA.ipynb",
      "provenance": []
    },
    "kernelspec": {
      "name": "python3",
      "display_name": "Python 3"
    },
    "language_info": {
      "name": "python"
    }
  },
  "cells": [
    {
      "cell_type": "markdown",
      "source": [
        "# latihan sklearn PCA"
      ],
      "metadata": {
        "id": "4U7DibW4_0RN"
      }
    },
    {
      "cell_type": "code",
      "execution_count": null,
      "metadata": {
        "id": "mjyTbqS8_xfF"
      },
      "outputs": [],
      "source": [
        "from sklearn import datasets\n",
        "from sklearn.model_selection import train_test_split\n",
        "\n",
        "iris = datasets.load_iris()\n",
        "atribut = iris.data\n",
        "label = iris.target\n",
        "\n",
        "#bagi dataset menjadi train dan test\n",
        "X_train, X_test, y_train, y_test = train_test_split(atribut, label, test_size=0.2, random_state=1)"
      ]
    },
    {
      "cell_type": "code",
      "source": [
        "from sklearn import tree\n",
        "\n",
        "decision_tree=tree.DecisionTreeClassifier()\n",
        "model_pertama=decision_tree.fit(X_train, y_train)\n",
        "model_pertama.score(X_test, y_test)\n"
      ],
      "metadata": {
        "colab": {
          "base_uri": "https://localhost:8080/"
        },
        "id": "FEHsEGOTA2SK",
        "outputId": "170d1611-2f9b-4290-fe8c-62c78bd7a397"
      },
      "execution_count": null,
      "outputs": [
        {
          "output_type": "execute_result",
          "data": {
            "text/plain": [
              "0.9666666666666667"
            ]
          },
          "metadata": {},
          "execution_count": 2
        }
      ]
    },
    {
      "cell_type": "code",
      "source": [
        "from sklearn.decomposition import PCA\n",
        "\n",
        "#membuat objekk PCA dengan 4 principal compounent\n",
        "pca = PCA(n_components=4)\n",
        "\n",
        "#megaplikasikan PCA pada datasets\n",
        "pca_attributes = pca.fit_transform(X_train)\n",
        "\n",
        "#melihat variance dari setiap attribut\n",
        "pca.explained_variance_ratio_"
      ],
      "metadata": {
        "colab": {
          "base_uri": "https://localhost:8080/"
        },
        "id": "MIoVX45fBhz4",
        "outputId": "464ff63c-b977-4504-c72c-065fbfd93f1c"
      },
      "execution_count": null,
      "outputs": [
        {
          "output_type": "execute_result",
          "data": {
            "text/plain": [
              "array([0.92848323, 0.04764372, 0.01931005, 0.004563  ])"
            ]
          },
          "metadata": {},
          "execution_count": 3
        }
      ]
    },
    {
      "cell_type": "code",
      "source": [
        "#PCA dengan 2 principal component\n",
        "pca = PCA(n_components=2)\n",
        "X_train_PCA = pca.fit_transform(X_train)\n",
        "X_test_PCA = pca.fit_transform(X_test)\n"
      ],
      "metadata": {
        "id": "oD0WTV4nCqXe"
      },
      "execution_count": null,
      "outputs": []
    },
    {
      "cell_type": "code",
      "source": [
        "#uji akurasi Classifier\n",
        "model2 = decision_tree.fit(X_train_PCA, y_train)\n",
        "model2.score(X_test_PCA, y_test)"
      ],
      "metadata": {
        "colab": {
          "base_uri": "https://localhost:8080/"
        },
        "id": "JveVvpyWDXQy",
        "outputId": "30872253-6e17-41b9-9163-faf28385f105"
      },
      "execution_count": null,
      "outputs": [
        {
          "output_type": "execute_result",
          "data": {
            "text/plain": [
              "0.9333333333333333"
            ]
          },
          "metadata": {},
          "execution_count": 7
        }
      ]
    }
  ]
}